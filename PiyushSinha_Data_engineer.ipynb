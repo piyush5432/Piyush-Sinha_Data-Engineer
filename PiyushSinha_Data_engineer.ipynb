{
 "cells": [
  {
   "cell_type": "code",
   "execution_count": 1,
   "metadata": {},
   "outputs": [],
   "source": [
    "import requests\n",
    "import zipfile\n",
    "import io\n",
    "import xml.etree.ElementTree as ET\n",
    "import csv\n",
    "import boto3\n",
    "import logging\n",
    "import os\n",
    "\n"
   ]
  },
  {
   "cell_type": "code",
   "execution_count": 2,
   "metadata": {},
   "outputs": [],
   "source": [
    "# Setting up logging\n",
    "logging.basicConfig(filename='logfile.log', level=logging.DEBUG)\n",
    "\n",
    "# Setting up S3 client\n",
    "s3 = boto3.client('s3')\n",
    "\n"
   ]
  },
  {
   "cell_type": "code",
   "execution_count": 3,
   "metadata": {},
   "outputs": [],
   "source": [
    "def download_file(url):\n",
    "    \"\"\"Downloads the file from the given URL and returns its content\"\"\"\n",
    "    try:\n",
    "        response = requests.get(url)\n",
    "        content = response.content\n",
    "        return content\n",
    "    except Exception as e:\n",
    "        logging.error(f\"Error downloading file from URL: {url}\\n{e}\")\n",
    "        raise e\n",
    "\n"
   ]
  },
  {
   "cell_type": "code",
   "execution_count": 4,
   "metadata": {},
   "outputs": [],
   "source": [
    "def extract_zip(file_content):\n",
    "    \"\"\"Extracts the XML file from the given ZIP file content\"\"\"\n",
    "    try:\n",
    "        with zipfile.ZipFile(io.BytesIO(file_content)) as zip_file:\n",
    "            # Find the XML file whose file_type is DLTINS\n",
    "            for name in zip_file.namelist():\n",
    "                if 'DLTINS' in name and name.endswith('.xml'):\n",
    "                    xml_content = zip_file.read(name)\n",
    "                    return xml_content\n",
    "            logging.error(f\"No XML file found in the ZIP file.\")\n",
    "            raise ValueError(\"No XML file found in the ZIP file.\")\n",
    "    except Exception as e:\n",
    "        logging.error(f\"Error extracting XML from ZIP file.\\n{e}\")\n",
    "        raise e\n",
    "\n"
   ]
  },
  {
   "cell_type": "code",
   "execution_count": 5,
   "metadata": {},
   "outputs": [],
   "source": [
    "def parse_xml(xml_content):\n",
    "    \"\"\"Parses the given XML content and returns a list of dictionaries\"\"\"\n",
    "    try:\n",
    "        # Parse the XML content into an ElementTree object\n",
    "        root = ET.fromstring(xml_content)\n",
    "        \n",
    "        # Find the first FinInstrmGnlAttrbts whose file_type is DLTINS\n",
    "        for item in root.findall(\".//{*}FinInstrmGnlAttrbts\"):\n",
    "            if item.find(\"{*}FileTp\").text == 'DLTINS':\n",
    "                data = {\n",
    "                    'FinInstrmGnlAttrbts.Id': item.find(\"{*}Id\").text,\n",
    "                    'FinInstrmGnlAttrbts.FullNm': item.find(\"{*}FullNm\").text,\n",
    "                    'FinInstrmGnlAttrbts.ClssfctnTp': item.find(\"{*}ClssfctnTp\").text,\n",
    "                    'FinInstrmGnlAttrbts.CmmdtyDerivInd': item.find(\"{*}CmmdtyDerivInd\").text,\n",
    "                    'FinInstrmGnlAttrbts.NtnlCcy': item.find(\"{*}NtnlCcy\").text,\n",
    "                    'Issr': item.find(\"{*}Issr\").text,\n",
    "                }\n",
    "                return [data]\n",
    "        \n",
    "        logging.error(f\"No FinInstrmGnlAttrbts found in the XML file.\")\n",
    "        raise ValueError(\"No FinInstrmGnlAttrbts found in the XML file.\")\n",
    "    except Exception as e:\n",
    "        logging.error(f\"Error parsing XML.\\n{e}\")\n",
    "        raise e\n",
    "\n"
   ]
  },
  {
   "cell_type": "code",
   "execution_count": 6,
   "metadata": {},
   "outputs": [],
   "source": [
    "# Define function to write data to CSV\n",
    "def write_csv(data):\n",
    "    csv_file = 'output.csv'\n",
    "    with open(csv_file, mode='w', newline='') as file:\n",
    "        fieldnames = ['FinInstrmGnlAttrbts.Id', 'FinInstrmGnlAttrbts.FullNm', 'FinInstrmGnlAttrbts.ClssfctnTp', 'FinInstrmGnlAttrbts.CmmdtyDerivInd', 'FinInstrmGnlAttrbts.NtnlCcy', 'Issr']\n",
    "        writer = csv.DictWriter(file, fieldnames=fieldnames)\n",
    "        writer.writeheader()\n",
    "        for row in data:\n",
    "            writer.writerow(row)\n",
    "    \n",
    "    # Write CSV to S3 bucket\n",
    "    s3 = boto3.resource('s3')\n",
    "    bucket_name = os.environ.get('S3_BUCKET_NAME')\n",
    "    s3.Object(bucket_name, csv_file).upload_file(csv_file)\n",
    "    \n",
    "    # Remove CSV file from local directory\n",
    "    os.remove(csv_file)"
   ]
  }
 ],
 "metadata": {
  "kernelspec": {
   "display_name": "Python 3",
   "language": "python",
   "name": "python3"
  },
  "language_info": {
   "codemirror_mode": {
    "name": "ipython",
    "version": 3
   },
   "file_extension": ".py",
   "mimetype": "text/x-python",
   "name": "python",
   "nbconvert_exporter": "python",
   "pygments_lexer": "ipython3",
   "version": "3.7.8"
  },
  "orig_nbformat": 4
 },
 "nbformat": 4,
 "nbformat_minor": 2
}
